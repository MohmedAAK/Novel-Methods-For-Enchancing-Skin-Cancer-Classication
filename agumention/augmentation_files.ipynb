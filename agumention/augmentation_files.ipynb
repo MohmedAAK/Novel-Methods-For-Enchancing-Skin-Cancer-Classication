{
  "nbformat": 4,
  "nbformat_minor": 0,
  "metadata": {
    "colab": {
      "name": "augmentation_files.ipynb",
      "provenance": [],
      "collapsed_sections": []
    },
    "kernelspec": {
      "name": "python3",
      "display_name": "Python 3"
    },
    "accelerator": "GPU"
  },
  "cells": [
    {
      "cell_type": "code",
      "metadata": {
        "id": "oZqUZAIw3Y4t",
        "colab_type": "code",
        "outputId": "7df3f40d-b52f-4bb7-bccb-869ef4757a76",
        "colab": {
          "base_uri": "https://localhost:8080/",
          "height": 34
        }
      },
      "source": [
        "from google.colab import drive\n",
        "drive.mount('/content/drive')\n",
        "from PIL import Image\n",
        "from PIL import ImageEnhance\n",
        "import glob\n",
        "import gc"
      ],
      "execution_count": 0,
      "outputs": [
        {
          "output_type": "stream",
          "text": [
            "Drive already mounted at /content/drive; to attempt to forcibly remount, call drive.mount(\"/content/drive\", force_remount=True).\n"
          ],
          "name": "stdout"
        }
      ]
    },
    {
      "cell_type": "code",
      "metadata": {
        "id": "jo7tPipRC5-L",
        "colab_type": "code",
        "colab": {}
      },
      "source": [
        "path_nv_others_nv_train = \"/content/drive/My Drive/architecture one /nv_others/nv/train/\"\n",
        "path_nv_others_nv_validation = \"/content/drive/My Drive/architecture one /nv_others/nv/validation/\"\n",
        "path_nv_others_others_train = \"/content/drive/My Drive/architecture one /nv_others/others/train/\"\n",
        "path_nv_others_others_validation = \"/content/drive/My Drive/architecture one /nv_others/others/validation/\"\n",
        "path_mel_others_mel_train = \"/content/drive/My Drive/architecture one /mel_others/mel/train/\"\n",
        "path_mel_others_mel_validation= \"/content/drive/My Drive/architecture one /mel_others/mel/validation/\"\n",
        "path_mel_others_others_train = \"/content/drive/My Drive/architecture one /mel_others/others/train/\"\n",
        "path_mel_others_others_validation = \"/content/drive/My Drive/architecture one /mel_others/others/validation/\"\n",
        "path_bkl_others_bkl_train= \"/content/drive/My Drive/architecture one /bkl_others/bkl/train/\"\n",
        "path_bkl_others_bkl_validation=\"/content/drive/My Drive/architecture one /bkl_others/bkl/validation/\"\n",
        "path_bkl_others_others_train = \"/content/drive/My Drive/architecture one /bkl_others/others/train/\"\n",
        "path_bkl_others_others_validation = \"/content/drive/My Drive/architecture one /bkl_others/others/validation/\"\n",
        "path_bcc_akice_df_vasc_bcc_train = \"/content/drive/My Drive/architecture one /bcc_akice_df_vasc/bcc/train/\"\n",
        "path_bcc_akice_df_vasc_bcc_validtion = \"/content/drive/My Drive/architecture one /bcc_akice_df_vasc/bcc/validation/\"\n",
        "path_bcc_akice_df_vasc_akice_train = \"/content/drive/My Drive/architecture one /bcc_akice_df_vasc/akice/train/\"\n",
        "path_bcc_akice_df_vasc_akice_validation  = \"/content/drive/My Drive/architecture one /bcc_akice_df_vasc/akice/validation/\"\n",
        "path_bcc_akice_df_vasc_df_train = \"/content/drive/My Drive/architecture one /bcc_akice_df_vasc/df/train/\"\n",
        "path_bcc_akice_df_vasc_df_validation = \"/content/drive/My Drive/architecture one /bcc_akice_df_vasc/df/validation/\"\n",
        "path_bcc_akice_df_vasc_vasc_train = \"/content/drive/My Drive/architecture one /bcc_akice_df_vasc/vasc/train/\"\n",
        "path_bcc_akice_df_vasc_vasc_validation = \"/content/drive/My Drive/architecture one /bcc_akice_df_vasc/vasc/validation/\"\n",
        "\n"
      ],
      "execution_count": 0,
      "outputs": []
    },
    {
      "cell_type": "code",
      "metadata": {
        "id": "soEfNXTFrbj4",
        "colab_type": "code",
        "colab": {}
      },
      "source": [
        "from PIL import Image\n",
        "import numpy as np\n",
        "import os\n",
        "import cv2\n",
        "def noisy(image):\n",
        "      row,col,ch = image.shape\n",
        "      s_vs_p = 0.5\n",
        "      amount = 0.03\n",
        "      out = np.copy(image)\n",
        "      # Salt mode\n",
        "      num_salt = np.ceil(amount * image.size * s_vs_p)\n",
        "      coords = [np.random.randint(0, i - 1, int(num_salt))\n",
        "              for i in image.shape]\n",
        "      out[coords] = 1\n",
        "\n",
        "      # Pepper mode\n",
        "      num_pepper = np.ceil(amount* image.size * (1. - s_vs_p))\n",
        "      coords = [np.random.randint(0, i - 1, int(num_pepper))\n",
        "              for i in image.shape]\n",
        "      out[coords] = 0\n",
        "      return out\n",
        "\n",
        "\n",
        "from PIL import ImageFilter\n",
        "from PIL import Image\n",
        "\n",
        "def rgb_to_hsv(rgb):\n",
        "    # Translated from source of colorsys.rgb_to_hsv\n",
        "    # r,g,b should be a numpy arrays with values between 0 and 255\n",
        "    # rgb_to_hsv returns an array of floats between 0.0 and 1.0.\n",
        "    rgb = rgb.astype('float')\n",
        "    hsv = np.zeros_like(rgb)\n",
        "    # in case an RGBA array was passed, just copy the A channel\n",
        "    hsv[..., 3:] = rgb[..., 3:]\n",
        "    r, g, b = rgb[..., 0], rgb[..., 1], rgb[..., 2]\n",
        "    maxc = np.max(rgb[..., :3], axis=-1)\n",
        "    minc = np.min(rgb[..., :3], axis=-1)\n",
        "    hsv[..., 2] = maxc\n",
        "    mask = maxc != minc\n",
        "    hsv[mask, 1] = (maxc - minc)[mask] / maxc[mask]\n",
        "    rc = np.zeros_like(r)\n",
        "    gc = np.zeros_like(g)\n",
        "    bc = np.zeros_like(b)\n",
        "    rc[mask] = (maxc - r)[mask] / (maxc - minc)[mask]\n",
        "    gc[mask] = (maxc - g)[mask] / (maxc - minc)[mask]\n",
        "    bc[mask] = (maxc - b)[mask] / (maxc - minc)[mask]\n",
        "    hsv[..., 0] = np.select(\n",
        "        [r == maxc, g == maxc], [bc - gc, 2.0 + rc - bc], default=4.0 + gc - rc)\n",
        "    hsv[..., 0] = (hsv[..., 0] / 6.0) % 1.0\n",
        "    return hsv\n",
        "\n",
        "def hsv_to_rgb(hsv):\n",
        "    # Translated from source of colorsys.hsv_to_rgb\n",
        "    # h,s should be a numpy arrays with values between 0.0 and 1.0\n",
        "    # v should be a numpy array with values between 0.0 and 255.0\n",
        "    # hsv_to_rgb returns an array of uints between 0 and 255.\n",
        "    rgb = np.empty_like(hsv)\n",
        "    rgb[..., 3:] = hsv[..., 3:]\n",
        "    h, s, v = hsv[..., 0], hsv[..., 1], hsv[..., 2]\n",
        "    i = (h * 6.0).astype('uint8')\n",
        "    f = (h * 6.0) - i\n",
        "    p = v * (1.0 - s)\n",
        "    q = v * (1.0 - s * f)\n",
        "    t = v * (1.0 - s * (1.0 - f))\n",
        "    i = i % 6\n",
        "    conditions = [s == 0.0, i == 1, i == 2, i == 3, i == 4, i == 5]\n",
        "    rgb[..., 0] = np.select(conditions, [v, q, p, p, t, v], default=v)\n",
        "    rgb[..., 1] = np.select(conditions, [v, v, v, q, p, p], default=t)\n",
        "    rgb[..., 2] = np.select(conditions, [v, p, t, v, v, q], default=p)\n",
        "    return rgb.astype('uint8')\n",
        "\n",
        "\n",
        "def shift_hue(arr,hout):\n",
        "    hsv=rgb_to_hsv(arr)\n",
        "    hsv[...,0]=hout\n",
        "    rgb=hsv_to_rgb(hsv)\n",
        "    return rgb\n",
        "\n",
        "#img = Image.open('m.m1.jpg').convert('RGBA')\n",
        "\n",
        "\n",
        "#arr = np.array(img)\n",
        "#blue_hue = 240/360.0\n",
        "#new_img = (Image.fromarray(shift_hue(arr,blue_hue), 'RGBA')).convert('RGB')\n",
        "#new_img.save('mm_blue.jpg')\n"
      ],
      "execution_count": 0,
      "outputs": []
    },
    {
      "cell_type": "code",
      "metadata": {
        "id": "9t8YGMqwvIPf",
        "colab_type": "code",
        "colab": {}
      },
      "source": [
        "def hue_trans(img,ids,save_path):\n",
        "   img = img.convert('RGBA')\n",
        "   arr = np.array(img)\n",
        "   blue_hue = 240/360.0\n",
        "   new_img = (Image.fromarray(shift_hue(arr,blue_hue), 'RGBA')).convert('RGB')\n",
        "   new_img.save(save_path+ids+'_hue'+'.jpg')\n"
      ],
      "execution_count": 0,
      "outputs": []
    },
    {
      "cell_type": "markdown",
      "metadata": {
        "id": "yhZuUh32hT3d",
        "colab_type": "text"
      },
      "source": [
        "this section below for training\n"
      ]
    },
    {
      "cell_type": "code",
      "metadata": {
        "id": "UhJS1_7I4Rka",
        "colab_type": "code",
        "outputId": "2c9ad022-2d18-4130-dde4-f179e281d0e5",
        "colab": {
          "base_uri": "https://localhost:8080/"
        }
      },
      "source": [
        "#nv train\n",
        "gc.disable()\n",
        "x=0\n",
        "for filename in glob.glob(\"/content/drive/My Drive/color_cons_skin_cancer_crop/nv/train/*.jpg\"): #assuming gif    \n",
        "    path = filename.split(\"/\")\n",
        "    name = path[7]  \n",
        "    parts=name.split(\".\")\n",
        "    ids=parts[0]                          \n",
        "    img=Image.open(filename)\n",
        "    img1=img.transpose(Image.FLIP_LEFT_RIGHT)\n",
        "    img2=img.transpose(Image.FLIP_TOP_BOTTOM)\n",
        "    img.save(path_nv_others_nv_train+ids+'.jpg')\n",
        "    img1.save(path_nv_others_nv_train+ids+'_fv'+'.jpg')\n",
        "    img2.save(path_nv_others_nv_train+ids+'_fh'+'.jpg')\n",
        "    hue_trans(img,ids,path_nv_others_nv_train)\n",
        "    \n",
        "    x=x+1\n",
        "gc.enable()  \n",
        "print(x)"
      ],
      "execution_count": 0,
      "outputs": [
        {
          "output_type": "stream",
          "text": [
            "5364\n"
          ],
          "name": "stdout"
        }
      ]
    },
    {
      "cell_type": "code",
      "metadata": {
        "id": "O3BAM4J9_ca6",
        "colab_type": "code",
        "colab": {
          "base_uri": "https://localhost:8080/",
          "height": 34
        },
        "outputId": "c4d1a8dc-a1f5-468c-f1be-0a85d846ca4a"
      },
      "source": [
        "#bkl train / nv_others\n",
        "gc.disable()\n",
        "x=0\n",
        "for filename in glob.glob(\"/content/drive/My Drive/color_cons_skin_cancer_crop/bkl/train/*.jpg\"): #assuming gif    \n",
        "    path = filename.split(\"/\")\n",
        "    name = path[7]  \n",
        "    parts=name.split(\".\")\n",
        "    ids=parts[0]                          \n",
        "    img=Image.open(filename)\n",
        "    img1=img.transpose(Image.FLIP_LEFT_RIGHT)\n",
        "    img2=img.transpose(Image.FLIP_TOP_BOTTOM)\n",
        "    img3=img.transpose(Image.ROTATE_90)\n",
        "    img4=img3.transpose(Image.FLIP_LEFT_RIGHT)\n",
        "    img5=img3.transpose(Image.FLIP_TOP_BOTTOM)\n",
        "    #img5=img3.transpose(Image.FLIP_TOP_BOTTOM)\n",
        "    #bkl_train\n",
        "    img.save(path_bkl_others_bkl_train+ids+\".jpg\")\n",
        "    img1.save(path_bkl_others_bkl_train+ids+'_fv'+'.jpg')\n",
        "    img2.save(path_bkl_others_bkl_train+ids+'_fh'+'.jpg')\n",
        "    img3.save(path_bkl_others_bkl_train+ids+\"_rot.jpg\")\n",
        "    img4.save(path_bkl_others_bkl_train+ids+'_rot_fv'+'.jpg')\n",
        "    img5.save(path_bkl_others_bkl_train+ids+'_rot_fh'+'.jpg')\n",
        "    hue_trans(img,ids,path_bkl_others_bkl_train)\n",
        "    hue_trans(img3,ids,path_bkl_others_bkl_train)\n",
        "    #others of nv_others\n",
        "    img.save(path_nv_others_others_train+ids+\".jpg\")\n",
        "    img1.save(path_nv_others_others_train+ids+'_fv'+'.jpg')\n",
        "    img2.save(path_nv_others_others_train+ids+'_fh'+'.jpg')\n",
        "    img3.save(path_nv_others_others_train+ids+\"_rot.jpg\")\n",
        "    img4.save(path_nv_others_others_train+ids+'_rot_fv'+'.jpg')\n",
        "    img5.save(path_nv_others_others_train+ids+'_rot_fh'+'.jpg')\n",
        "    hue_trans(img,ids,path_nv_others_others_train)\n",
        "    hue_trans(img3,ids,path_nv_others_others_train)\n",
        "    x+=1\n",
        "gc.enable()   \n",
        "print(x)"
      ],
      "execution_count": 11,
      "outputs": [
        {
          "output_type": "stream",
          "text": [
            "879\n"
          ],
          "name": "stdout"
        }
      ]
    },
    {
      "cell_type": "code",
      "metadata": {
        "id": "4opDU0mmGNIe",
        "colab_type": "code",
        "colab": {
          "base_uri": "https://localhost:8080/",
          "height": 34
        },
        "outputId": "6a1257d7-4e1e-4493-bc42-2d4c7d697423"
      },
      "source": [
        "#mel train / nv_others / bkl_others\n",
        "gc.disable()\n",
        "x=0\n",
        "for filename in glob.glob(\"/content/drive/My Drive/color_cons_skin_cancer_crop/mel/train/*.jpg\"): #assuming gif    \n",
        "    path = filename.split(\"/\")\n",
        "    name = path[7]  \n",
        "    parts=name.split(\".\")\n",
        "    ids=parts[0]                          \n",
        "    img=Image.open(filename)\n",
        "    img1=img.transpose(Image.FLIP_LEFT_RIGHT)\n",
        "    img2=img.transpose(Image.FLIP_TOP_BOTTOM)\n",
        "    img3=img.transpose(Image.ROTATE_90)\n",
        "    img4=img3.transpose(Image.FLIP_LEFT_RIGHT)\n",
        "    img5=img3.transpose(Image.FLIP_TOP_BOTTOM)\n",
        "\n",
        "    #train\n",
        "    #mel train\n",
        "    img.save(path_mel_others_mel_train+ids+\".jpg\")\n",
        "    img1.save(path_mel_others_mel_train+ids+'_fv'+'.jpg')\n",
        "    img2.save(path_mel_others_mel_train+ids+'_fh'+'.jpg')\n",
        "    hue_trans(img,ids,path_mel_others_mel_train)\n",
        "    #others of nv_others\n",
        "    img.save(path_nv_others_others_train+ids+\".jpg\")\n",
        "    img1.save(path_nv_others_others_train+ids+'_fv'+'.jpg')\n",
        "    img2.save(path_nv_others_others_train+ids+'_fh'+'.jpg')\n",
        "    img3.save(path_nv_others_others_train+ids+\"_rot.jpg\")\n",
        "    img4.save(path_nv_others_others_train+ids+'_rot_fv'+'.jpg')\n",
        "    img5.save(path_nv_others_others_train+ids+'_rot_fh'+'.jpg')\n",
        "    hue_trans(img,ids,path_nv_others_others_train)\n",
        "    hue_trans(img3,ids,path_nv_others_others_train)\n",
        "    #others of bkl_others\n",
        "    img.save(path_bkl_others_others_train+ids+\".jpg\")\n",
        "    img1.save(path_bkl_others_others_train+ids+'_fv'+'.jpg')\n",
        "    img2.save(path_bkl_others_others_train+ids+'_fh'+'.jpg')\n",
        "    hue_trans(img,ids,path_bkl_others_others_train)\n",
        "    x+=1\n",
        "gc.enable()  \n",
        "print(x)  "
      ],
      "execution_count": 12,
      "outputs": [
        {
          "output_type": "stream",
          "text": [
            "890\n"
          ],
          "name": "stdout"
        }
      ]
    },
    {
      "cell_type": "code",
      "metadata": {
        "id": "fdF_rpywGtWg",
        "colab_type": "code",
        "colab": {
          "base_uri": "https://localhost:8080/",
          "height": 34
        },
        "outputId": "ede85360-66bf-4e30-f6b0-e3bf230d97a9"
      },
      "source": [
        "#bcc train /nv_others/bkl_others/mel_others\n",
        "gc.disable()\n",
        "x=0\n",
        "for filename in glob.glob(\"/content/drive/My Drive/color_cons_skin_cancer_crop/bcc/train/*.jpg\"): #assuming gif    \n",
        "    path = filename.split(\"/\")\n",
        "    name = path[7]  \n",
        "    parts=name.split(\".\")\n",
        "    ids=parts[0]                          \n",
        "    img=Image.open(filename)\n",
        "    img1=img.transpose(Image.FLIP_LEFT_RIGHT)\n",
        "    img2=img.transpose(Image.FLIP_TOP_BOTTOM)\n",
        "    img3=img.transpose(Image.ROTATE_90)\n",
        "    img4=img3.transpose(Image.FLIP_LEFT_RIGHT)\n",
        "    img5=img3.transpose(Image.FLIP_TOP_BOTTOM)\n",
        "\n",
        "    #train\n",
        "    #bcc train\n",
        "    img.save(path_bcc_akice_df_vasc_bcc_train+ids+'.jpg')\n",
        "    img1.save(path_bcc_akice_df_vasc_bcc_train+ids+'_fv'+'.jpg')\n",
        "    img2.save(path_bcc_akice_df_vasc_bcc_train+ids+'_fh'+'.jpg')\n",
        "    hue_trans(img,ids,path_bcc_akice_df_vasc_bcc_train)\n",
        "    #others of nv_others\n",
        "    img.save(path_nv_others_others_train+ids+\".jpg\")\n",
        "    img1.save(path_nv_others_others_train+ids+'_fv'+'.jpg')\n",
        "    img2.save(path_nv_others_others_train+ids+'_fh'+'.jpg')\n",
        "    img3.save(path_nv_others_others_train+ids+\"_rot.jpg\")\n",
        "    img4.save(path_nv_others_others_train+ids+'_rot_fv'+'.jpg')\n",
        "    img5.save(path_nv_others_others_train+ids+'_rot_fh'+'.jpg')\n",
        "    hue_trans(img,ids,path_nv_others_others_train)\n",
        "    hue_trans(img3,ids,path_nv_others_others_train)\n",
        "    #others of bkl_others\n",
        "    img.save(path_bkl_others_others_train+ids+\".jpg\")\n",
        "    img1.save(path_bkl_others_others_train+ids+'_fv'+'.jpg')\n",
        "    img2.save(path_bkl_others_others_train+ids+'_fh'+'.jpg')\n",
        "    hue_trans(img,ids,path_bkl_others_others_train)\n",
        "    #others of mel_others\n",
        "    img.save(path_mel_others_others_train+ids+\".jpg\")\n",
        "    img1.save(path_mel_others_others_train+ids+'_fv'+'.jpg')\n",
        "    img2.save(path_mel_others_others_train+ids+'_fh'+'.jpg')\n",
        "    hue_trans(img,ids,path_mel_others_others_train)\n",
        "    x+=1\n",
        "gc.enable()  \n",
        "print(x)"
      ],
      "execution_count": 13,
      "outputs": [
        {
          "output_type": "stream",
          "text": [
            "411\n"
          ],
          "name": "stdout"
        }
      ]
    },
    {
      "cell_type": "code",
      "metadata": {
        "id": "DetNC3_7HTye",
        "colab_type": "code",
        "colab": {
          "base_uri": "https://localhost:8080/",
          "height": 34
        },
        "outputId": "02ebc234-1c1d-453a-b510-33016d78f980"
      },
      "source": [
        "#akice train /nv_others/bkl_others/mel_others\n",
        "gc.disable()\n",
        "x=0\n",
        "for filename in glob.glob(\"/content/drive/My Drive/color_cons_skin_cancer_crop/akiec/train/*.jpg\"): #assuming gif    \n",
        "    path = filename.split(\"/\")\n",
        "    name = path[7]  \n",
        "    parts=name.split(\".\")\n",
        "    ids=parts[0]                          \n",
        "    img=Image.open(filename)\n",
        "    img1=img.transpose(Image.FLIP_LEFT_RIGHT)\n",
        "    img2=img.transpose(Image.FLIP_TOP_BOTTOM)\n",
        "    img3=img.transpose(Image.ROTATE_90)\n",
        "    img4=img3.transpose(Image.FLIP_LEFT_RIGHT)\n",
        "    img5=img3.transpose(Image.FLIP_TOP_BOTTOM)\n",
        "     #train\n",
        "    #akice train\n",
        "    img.save(path_bcc_akice_df_vasc_akice_train+ids+'.jpg')\n",
        "    img1.save(path_bcc_akice_df_vasc_akice_train+ids+'_fv'+'.jpg')\n",
        "    img2.save(path_bcc_akice_df_vasc_akice_train+ids+'_fh'+'.jpg')\n",
        "    hue_trans(img,ids,path_bcc_akice_df_vasc_akice_train)\n",
        "    #others of nv_others\n",
        "    img.save(path_nv_others_others_train+ids+\".jpg\")\n",
        "    img1.save(path_nv_others_others_train+ids+'_fv'+'.jpg')\n",
        "    img2.save(path_nv_others_others_train+ids+'_fh'+'.jpg')\n",
        "    img3.save(path_nv_others_others_train+ids+\"_rot.jpg\")\n",
        "    img4.save(path_nv_others_others_train+ids+'_rot_fv'+'.jpg')\n",
        "    img5.save(path_nv_others_others_train+ids+'_rot_fh'+'.jpg')\n",
        "    hue_trans(img,ids,path_nv_others_others_train)\n",
        "    hue_trans(img3,ids,path_nv_others_others_train)\n",
        "    #others of bkl_others\n",
        "    img.save(path_bkl_others_others_train+ids+\".jpg\")\n",
        "    img1.save(path_bkl_others_others_train+ids+'_fv'+'.jpg')\n",
        "    img2.save(path_bkl_others_others_train+ids+'_fh'+'.jpg')\n",
        "    hue_trans(img,ids,path_bkl_others_others_train)\n",
        "    #others of mel_others\n",
        "    img.save(path_mel_others_others_train+ids+\".jpg\")\n",
        "    img1.save(path_mel_others_others_train+ids+'_fv'+'.jpg')\n",
        "    img2.save(path_mel_others_others_train+ids+'_fh'+'.jpg')\n",
        "    hue_trans(img,ids,path_mel_others_others_train)\n",
        "    x+=1\n",
        "gc.enable()    \n",
        "print(x)"
      ],
      "execution_count": 14,
      "outputs": [
        {
          "output_type": "stream",
          "text": [
            "261\n"
          ],
          "name": "stdout"
        }
      ]
    },
    {
      "cell_type": "code",
      "metadata": {
        "id": "g9R3BH4qIF9R",
        "colab_type": "code",
        "colab": {
          "base_uri": "https://localhost:8080/",
          "height": 34
        },
        "outputId": "1d05eba9-e31f-4ced-8f86-17d2f7444819"
      },
      "source": [
        "#vasc train /nv_others/bkl_others/mel_others\n",
        "gc.disable()\n",
        "x=0\n",
        "for filename in glob.glob(\"/content/drive/My Drive/color_cons_skin_cancer_crop/vasc/train/*.jpg\"): #assuming gif    \n",
        "    path = filename.split(\"/\")\n",
        "    name = path[7]  \n",
        "    parts=name.split(\".\")\n",
        "    ids=parts[0]                          \n",
        "    img=Image.open(filename)\n",
        "    img1=img.transpose(Image.FLIP_LEFT_RIGHT)\n",
        "    img2=img.transpose(Image.FLIP_TOP_BOTTOM)\n",
        "    img3=img.transpose(Image.ROTATE_90)\n",
        "    img4=img3.transpose(Image.FLIP_LEFT_RIGHT)\n",
        "    img5=img3.transpose(Image.FLIP_TOP_BOTTOM)\n",
        "     #train\n",
        "    #vasc train\n",
        "    img.save(path_bcc_akice_df_vasc_vasc_train+ids+'.jpg')\n",
        "    img1.save(path_bcc_akice_df_vasc_vasc_train+ids+'_fv'+'.jpg')\n",
        "    img2.save(path_bcc_akice_df_vasc_vasc_train+ids+'_fh'+'.jpg')\n",
        "    img3.save(path_bcc_akice_df_vasc_vasc_train+ids+\"_rot.jpg\")\n",
        "    img4.save(path_bcc_akice_df_vasc_vasc_train+ids+'_rot_fv'+'.jpg')\n",
        "    img5.save(path_bcc_akice_df_vasc_vasc_train+ids+'_rot_fh'+'.jpg')\n",
        "    hue_trans(img,ids,path_bcc_akice_df_vasc_vasc_train)\n",
        "    hue_trans(img3,ids,path_bcc_akice_df_vasc_vasc_train)\n",
        "    #others of nv_others\n",
        "    img.save(path_nv_others_others_train+ids+\".jpg\")\n",
        "    img1.save(path_nv_others_others_train+ids+'_fv'+'.jpg')\n",
        "    img2.save(path_nv_others_others_train+ids+'_fh'+'.jpg')\n",
        "    img3.save(path_nv_others_others_train+ids+\"_rot.jpg\")\n",
        "    img4.save(path_nv_others_others_train+ids+'_rot_fv'+'.jpg')\n",
        "    img5.save(path_nv_others_others_train+ids+'_rot_fh'+'.jpg')\n",
        "    hue_trans(img,ids,path_nv_others_others_train)\n",
        "    hue_trans(img3,ids,path_nv_others_others_train)\n",
        "    #others of bkl_others\n",
        "    img.save(path_bkl_others_others_train+ids+\".jpg\")\n",
        "    img1.save(path_bkl_others_others_train+ids+'_fv'+'.jpg')\n",
        "    img2.save(path_bkl_others_others_train+ids+'_fh'+'.jpg')\n",
        "    hue_trans(img,ids,path_bkl_others_others_train)\n",
        "    #others of mel_others\n",
        "    img.save(path_mel_others_others_train+ids+\".jpg\")\n",
        "    img1.save(path_mel_others_others_train+ids+'_fv'+'.jpg')\n",
        "    img2.save(path_mel_others_others_train+ids+'_fh'+'.jpg')\n",
        "    hue_trans(img,ids,path_mel_others_others_train)\n",
        "    x+=1\n",
        "gc.enable()    \n",
        "print(x)"
      ],
      "execution_count": 15,
      "outputs": [
        {
          "output_type": "stream",
          "text": [
            "113\n"
          ],
          "name": "stdout"
        }
      ]
    },
    {
      "cell_type": "code",
      "metadata": {
        "id": "Pz868deZIrNF",
        "colab_type": "code",
        "colab": {
          "base_uri": "https://localhost:8080/",
          "height": 34
        },
        "outputId": "34635900-f5a8-49f5-8312-f44c5131f97a"
      },
      "source": [
        "#df train /nv_others/bkl_others/mel_others\n",
        "gc.disable()\n",
        "x=0\n",
        "for filename in glob.glob(\"/content/drive/My Drive/color_cons_skin_cancer_crop/df/train/*.jpg\"): #assuming gif    \n",
        "    path = filename.split(\"/\")\n",
        "    name = path[7]  \n",
        "    parts=name.split(\".\")\n",
        "    ids=parts[0]                          \n",
        "    img=Image.open(filename)\n",
        "    img1=img.transpose(Image.FLIP_LEFT_RIGHT)\n",
        "    img2=img.transpose(Image.FLIP_TOP_BOTTOM)\n",
        "    img3=img.transpose(Image.ROTATE_90)\n",
        "    img4=img3.transpose(Image.FLIP_LEFT_RIGHT)\n",
        "    img5=img3.transpose(Image.FLIP_TOP_BOTTOM)\n",
        "     #train\n",
        "    #vasc train\n",
        "    img.save(path_bcc_akice_df_vasc_df_train+ids+'.jpg')\n",
        "    img1.save(path_bcc_akice_df_vasc_df_train+ids+'_fv'+'.jpg')\n",
        "    img2.save(path_bcc_akice_df_vasc_df_train+ids+'_fh'+'.jpg')\n",
        "    img3.save(path_bcc_akice_df_vasc_df_train+ids+\"_rot.jpg\")\n",
        "    img4.save(path_bcc_akice_df_vasc_df_train+ids+'_rot_fv'+'.jpg')\n",
        "    img5.save(path_bcc_akice_df_vasc_df_train+ids+'_rot_fh'+'.jpg')\n",
        "    hue_trans(img,ids,path_bcc_akice_df_vasc_df_train)\n",
        "    hue_trans(img3,ids,path_bcc_akice_df_vasc_df_train)\n",
        "    #others of nv_others\n",
        "    img.save(path_nv_others_others_train+ids+\".jpg\")\n",
        "    img1.save(path_nv_others_others_train+ids+'_fv'+'.jpg')\n",
        "    img2.save(path_nv_others_others_train+ids+'_fh'+'.jpg')\n",
        "    img3.save(path_nv_others_others_train+ids+\"_rot.jpg\")\n",
        "    img4.save(path_nv_others_others_train+ids+'_rot_fv'+'.jpg')\n",
        "    img5.save(path_nv_others_others_train+ids+'_rot_fh'+'.jpg')\n",
        "    hue_trans(img,ids,path_nv_others_others_train)\n",
        "    hue_trans(img3,ids,path_nv_others_others_train)\n",
        "    #others of bkl_others\n",
        "    img.save(path_bkl_others_others_train+ids+\".jpg\")\n",
        "    img1.save(path_bkl_others_others_train+ids+'_fv'+'.jpg')\n",
        "    img2.save(path_bkl_others_others_train+ids+'_fh'+'.jpg')\n",
        "    hue_trans(img,ids,path_bkl_others_others_train)\n",
        "    #others of mel_others\n",
        "    img.save(path_mel_others_others_train+ids+\".jpg\")\n",
        "    img1.save(path_mel_others_others_train+ids+'_fv'+'.jpg')\n",
        "    img2.save(path_mel_others_others_train+ids+'_fh'+'.jpg')\n",
        "    hue_trans(img,ids,path_mel_others_others_train)\n",
        "    x+=1\n",
        "gc.enable()    \n",
        "print(x)"
      ],
      "execution_count": 16,
      "outputs": [
        {
          "output_type": "stream",
          "text": [
            "92\n"
          ],
          "name": "stdout"
        }
      ]
    },
    {
      "cell_type": "markdown",
      "metadata": {
        "id": "_Bg4oD7wnKHG",
        "colab_type": "text"
      },
      "source": [
        "section below for validation"
      ]
    },
    {
      "cell_type": "code",
      "metadata": {
        "id": "d3RyT8eTnl6l",
        "colab_type": "code",
        "colab": {
          "base_uri": "https://localhost:8080/",
          "height": 34
        },
        "outputId": "5332eb4d-2451-4c91-c65b-bcc0fc4da543"
      },
      "source": [
        "#nv validation\n",
        "gc.disable()\n",
        "x=0\n",
        "for filename in glob.glob(\"/content/drive/My Drive/color_cons_skin_cancer_crop/nv/validation/*.jpg\"): #assuming gif    \n",
        "    path = filename.split(\"/\")\n",
        "    name = path[7]  \n",
        "    parts=name.split(\".\")\n",
        "    ids=parts[0]                          \n",
        "    img=Image.open(filename)\n",
        "    img.save(path_nv_others_nv_validation+ids+'.jpg')\n",
        "    x=x+1\n",
        "gc.enable()  \n",
        "print(x)\n"
      ],
      "execution_count": 17,
      "outputs": [
        {
          "output_type": "stream",
          "text": [
            "1341\n"
          ],
          "name": "stdout"
        }
      ]
    },
    {
      "cell_type": "code",
      "metadata": {
        "id": "AqYUwbxNn1LW",
        "colab_type": "code",
        "colab": {
          "base_uri": "https://localhost:8080/",
          "height": 34
        },
        "outputId": "433eec9b-ef86-4954-a47b-87c5963f2507"
      },
      "source": [
        "#bkl validation / nv_others\n",
        "gc.disable()\n",
        "x=0\n",
        "for filename in glob.glob(\"/content/drive/My Drive/color_cons_skin_cancer_crop/bkl/validation/*.jpg\"): #assuming gif    \n",
        "    path = filename.split(\"/\")\n",
        "    name = path[7]  \n",
        "    parts=name.split(\".\")\n",
        "    ids=parts[0]                          \n",
        "    img=Image.open(filename)\n",
        "    \n",
        "    #img5=img3.transpose(Image.FLIP_TOP_BOTTOM)\n",
        "    #bkl_validation\n",
        "    img.save(path_bkl_others_bkl_validation+ids+\".jpg\")\n",
        "    #others of nv_others\n",
        "    img.save(path_nv_others_others_validation+ids+\".jpg\")\n",
        "    \n",
        "    x+=1\n",
        "gc.enable()   \n",
        "print(x)"
      ],
      "execution_count": 18,
      "outputs": [
        {
          "output_type": "stream",
          "text": [
            "220\n"
          ],
          "name": "stdout"
        }
      ]
    },
    {
      "cell_type": "code",
      "metadata": {
        "id": "L85QrYwcn25i",
        "colab_type": "code",
        "colab": {
          "base_uri": "https://localhost:8080/",
          "height": 34
        },
        "outputId": "9288cd2d-b9e4-4542-d9c2-78645bd4095f"
      },
      "source": [
        "#mel validation / nv_others / bkl_others\n",
        "gc.disable()\n",
        "x=0\n",
        "for filename in glob.glob(\"/content/drive/My Drive/color_cons_skin_cancer_crop/mel/validation/*.jpg\"): #assuming gif    \n",
        "    path = filename.split(\"/\")\n",
        "    name = path[7]  \n",
        "    parts=name.split(\".\")\n",
        "    ids=parts[0]                          \n",
        "    img=Image.open(filename)\n",
        "\n",
        "    #validation\n",
        "    #mel validation\n",
        "    img.save(path_mel_others_mel_validation+ids+\".jpg\")\n",
        "    \n",
        "    #others of nv_others\n",
        "    img.save(path_nv_others_others_validation+ids+\".jpg\")\n",
        "    \n",
        "    #others of bkl_others\n",
        "    img.save(path_bkl_others_others_validation+ids+\".jpg\")\n",
        "    \n",
        "    x+=1\n",
        "gc.enable()  \n",
        "print(x)  "
      ],
      "execution_count": 19,
      "outputs": [
        {
          "output_type": "stream",
          "text": [
            "223\n"
          ],
          "name": "stdout"
        }
      ]
    },
    {
      "cell_type": "code",
      "metadata": {
        "id": "ykVPwvryoDCn",
        "colab_type": "code",
        "colab": {
          "base_uri": "https://localhost:8080/",
          "height": 34
        },
        "outputId": "74c49dd6-55f4-48fa-f8bc-82de1098ff06"
      },
      "source": [
        "#bcc validation /nv_others/bkl_others/mel_others\n",
        "gc.disable()\n",
        "x=0\n",
        "for filename in glob.glob(\"/content/drive/My Drive/color_cons_skin_cancer_crop/bcc/validation/*.jpg\"): #assuming gif    \n",
        "    path = filename.split(\"/\")\n",
        "    name = path[7]  \n",
        "    parts=name.split(\".\")\n",
        "    ids=parts[0]                          \n",
        "    img=Image.open(filename)\n",
        "    \n",
        "\n",
        "    #validation\n",
        "    #bcc validation\n",
        "    img.save(path_bcc_akice_df_vasc_bcc_validtion+ids+'.jpg')\n",
        "    \n",
        "    #others of nv_others\n",
        "    img.save(path_nv_others_others_validation+ids+\".jpg\")\n",
        "    \n",
        "    #others of bkl_others\n",
        "    img.save(path_bkl_others_others_validation+ids+\".jpg\")\n",
        "    \n",
        "    #others of mel_others\n",
        "    img.save(path_mel_others_others_validation+ids+\".jpg\")\n",
        "    \n",
        "    x+=1\n",
        "gc.enable()  \n",
        "print(x)"
      ],
      "execution_count": 21,
      "outputs": [
        {
          "output_type": "stream",
          "text": [
            "103\n"
          ],
          "name": "stdout"
        }
      ]
    },
    {
      "cell_type": "code",
      "metadata": {
        "id": "2vAxqfkMoNpT",
        "colab_type": "code",
        "colab": {
          "base_uri": "https://localhost:8080/",
          "height": 34
        },
        "outputId": "630746f5-e84e-48ec-8ace-b6077739a634"
      },
      "source": [
        "#akice validation /nv_others/bkl_others/mel_others\n",
        "gc.disable()\n",
        "x=0\n",
        "for filename in glob.glob(\"/content/drive/My Drive/color_cons_skin_cancer_crop/akiec/validation/*.jpg\"): #assuming gif    \n",
        "    path = filename.split(\"/\")\n",
        "    name = path[7]  \n",
        "    parts=name.split(\".\")\n",
        "    ids=parts[0]                          \n",
        "    img=Image.open(filename)\n",
        "    \n",
        "     #validation\n",
        "    #akice validation\n",
        "    img.save(path_bcc_akice_df_vasc_akice_validation+ids+'.jpg')\n",
        "    \n",
        "    #others of nv_others\n",
        "    img.save(path_nv_others_others_validation+ids+\".jpg\")\n",
        "    \n",
        "    #others of bkl_others\n",
        "    img.save(path_bkl_others_others_validation+ids+\".jpg\")\n",
        "    \n",
        "    #others of mel_others\n",
        "    img.save(path_mel_others_others_validation+ids+\".jpg\")\n",
        "    \n",
        "    x+=1\n",
        "gc.enable()    \n",
        "print(x)"
      ],
      "execution_count": 25,
      "outputs": [
        {
          "output_type": "stream",
          "text": [
            "66\n"
          ],
          "name": "stdout"
        }
      ]
    },
    {
      "cell_type": "code",
      "metadata": {
        "id": "1AGIZx4poYte",
        "colab_type": "code",
        "colab": {
          "base_uri": "https://localhost:8080/",
          "height": 34
        },
        "outputId": "c6599db4-43fb-4925-f96d-ea7521fffd10"
      },
      "source": [
        "#vasc validation /nv_others/bkl_others/mel_others\n",
        "gc.disable()\n",
        "x=0\n",
        "for filename in glob.glob(\"/content/drive/My Drive/color_cons_skin_cancer_crop/vasc/validation/*.jpg\"): #assuming gif    \n",
        "    path = filename.split(\"/\")\n",
        "    name = path[7]  \n",
        "    parts=name.split(\".\")\n",
        "    ids=parts[0]                          \n",
        "    img=Image.open(filename)\n",
        "    \n",
        "     #validation\n",
        "    #vasc validation\n",
        "    img.save(path_bcc_akice_df_vasc_vasc_validation+ids+'.jpg')\n",
        "    \n",
        "    #others of nv_others\n",
        "    img.save(path_nv_others_others_validation+ids+\".jpg\")\n",
        "    \n",
        "    #others of bkl_others\n",
        "    img.save(path_bkl_others_others_validation+ids+\".jpg\")\n",
        "    \n",
        "    #others of mel_others\n",
        "    img.save(path_mel_others_others_validation+ids+\".jpg\")\n",
        "    \n",
        "    x+=1\n",
        "gc.enable()    \n",
        "print(x)"
      ],
      "execution_count": 26,
      "outputs": [
        {
          "output_type": "stream",
          "text": [
            "29\n"
          ],
          "name": "stdout"
        }
      ]
    },
    {
      "cell_type": "code",
      "metadata": {
        "id": "keN8FHHQomOF",
        "colab_type": "code",
        "colab": {
          "base_uri": "https://localhost:8080/",
          "height": 34
        },
        "outputId": "2076e068-942f-4d8e-da6c-e88527066135"
      },
      "source": [
        "#df validation /nv_others/bkl_others/mel_others\n",
        "gc.disable()\n",
        "x=0\n",
        "for filename in glob.glob(\"/content/drive/My Drive/color_cons_skin_cancer_crop/df/validation/*.jpg\"): #assuming gif    \n",
        "    path = filename.split(\"/\")\n",
        "    name = path[7]  \n",
        "    parts=name.split(\".\")\n",
        "    ids=parts[0]                          \n",
        "    img=Image.open(filename)\n",
        "    \n",
        "     #validation\n",
        "    #vasc validation\n",
        "    img.save(path_bcc_akice_df_vasc_df_validation+ids+'.jpg')\n",
        "    \n",
        "    #others of nv_others\n",
        "    img.save(path_nv_others_others_validation+ids+\".jpg\")\n",
        "    \n",
        "    #others of bkl_others\n",
        "    img.save(path_bkl_others_others_validation+ids+\".jpg\")\n",
        "    \n",
        "    #others of mel_others\n",
        "    img.save(path_mel_others_others_validation+ids+\".jpg\")\n",
        "    \n",
        "    x+=1\n",
        "gc.enable()    \n",
        "print(x)"
      ],
      "execution_count": 27,
      "outputs": [
        {
          "output_type": "stream",
          "text": [
            "23\n"
          ],
          "name": "stdout"
        }
      ]
    }
  ]
}